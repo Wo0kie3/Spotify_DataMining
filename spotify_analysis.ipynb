{
 "metadata": {
  "language_info": {
   "codemirror_mode": {
    "name": "ipython",
    "version": 3
   },
   "file_extension": ".py",
   "mimetype": "text/x-python",
   "name": "python",
   "nbconvert_exporter": "python",
   "pygments_lexer": "ipython3",
   "version": "3.8.5"
  },
  "orig_nbformat": 2,
  "kernelspec": {
   "name": "python3",
   "display_name": "Python 3.8.5 64-bit"
  },
  "metadata": {
   "interpreter": {
    "hash": "63fd5069d213b44bf678585dea6b12cceca9941eaf7f819626cde1f2670de90d"
   }
  },
  "interpreter": {
   "hash": "916dbcbb3f70747c44a77c7bcd40155683ae19c65e1c03b4aa3499c5328201f1"
  }
 },
 "nbformat": 4,
 "nbformat_minor": 2,
 "cells": [
  {
   "cell_type": "code",
   "execution_count": 1,
   "metadata": {},
   "outputs": [],
   "source": [
    "import pandas as pd"
   ]
  },
  {
   "source": [
    "# Spotify Genres - Data Mining\n",
    "## 1: Business objective\n",
    "Maintaining radio stations or constructing playlists of high quality can be an expensive and daunting task. People enjoying these forms of listening to music may expect that songs offered by any particular source should be as similar to each other as possible - combining somber and lively pieces steer the audience towards the other providers.  \n",
    "Therefore, it is crucial to find a number of sets/clusters of music genres that could be viably combined together into a single playlist or radio station. The number of presented options should not be too high (maintaining many stations/playlists is not profitable) and genres should obviously be relatively similar to others composing the same cluster.\n",
    "## 2: Example dataset\n",
    "The dataset we are using for this task can be found on kaggle (https://www.kaggle.com/yamaerenay/spotify-dataset-19212020-160k-tracks) and comprises data obtained using Spotify API. Although a variety of data can be found in this dataset, we will limit ourselves to two files: data_by_genres_o.csv (data regarding music genres) and data_o.csv (data regarding particular songs), with every genres and score being described with parameters portraying musical properties like:\n",
    "* acousticness (0-1)\n",
    "* danceability (0-1)\n",
    "* energy (0-1)\n",
    "* duration (usually between 200k and 300k)\n",
    "* instrumentalness (0-1)\n",
    "* valence (0-1)\n",
    "* tempo (50-150)\n",
    "* liveness (0-1)\n",
    "* loudness (-60-0)\n",
    "* speechiness (0-1)\n",
    "* mode (0=minor, 1=major)\n",
    "* key (categorical, 0-11).  \n",
    "\n",
    "While for our task data_by_genres_o.csv will be utilised most of the time, we want to use data_o.csv to obtain informations regarding popularity/number of songs of any given genre to present the findings clearly."
   ],
   "cell_type": "markdown",
   "metadata": {}
  },
  {
   "source": [],
   "cell_type": "markdown",
   "metadata": {}
  }
 ]
}